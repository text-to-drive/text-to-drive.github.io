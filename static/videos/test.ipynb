{
 "cells": [
  {
   "cell_type": "code",
   "execution_count": 3,
   "metadata": {},
   "outputs": [],
   "source": [
    "import os\n",
    "from moviepy.editor import VideoFileClip, concatenate_videoclips"
   ]
  },
  {
   "cell_type": "code",
   "execution_count": 7,
   "metadata": {},
   "outputs": [
    {
     "name": "stdout",
     "output_type": "stream",
     "text": [
      "MoviePy - Building file ./gifs/9_accelerative_merger.gif with imageio.\n"
     ]
    },
    {
     "name": "stderr",
     "output_type": "stream",
     "text": [
      "                                                               \r"
     ]
    },
    {
     "name": "stdout",
     "output_type": "stream",
     "text": [
      "MoviePy - Building file ./gifs/11_complete_stop_on_ramp_highway.gif with imageio.\n"
     ]
    },
    {
     "name": "stderr",
     "output_type": "stream",
     "text": [
      "                                                               \r"
     ]
    },
    {
     "name": "stdout",
     "output_type": "stream",
     "text": [
      "MoviePy - Building file ./gifs/12_tailgating_highway_multi.gif with imageio.\n"
     ]
    },
    {
     "name": "stderr",
     "output_type": "stream",
     "text": [
      "                                                               \r"
     ]
    },
    {
     "name": "stdout",
     "output_type": "stream",
     "text": [
      "MoviePy - Building file ./gifs/13_accelerative_highway.gif with imageio.\n"
     ]
    },
    {
     "name": "stderr",
     "output_type": "stream",
     "text": [
      "                                                             \r"
     ]
    },
    {
     "name": "stdout",
     "output_type": "stream",
     "text": [
      "MoviePy - Building file ./gifs/14_parallel_lane_highway.gif with imageio.\n"
     ]
    },
    {
     "name": "stderr",
     "output_type": "stream",
     "text": [
      "                                                               \r"
     ]
    },
    {
     "name": "stdout",
     "output_type": "stream",
     "text": [
      "MoviePy - Building file ./gifs/15_safe_distance_highway.gif with imageio.\n"
     ]
    },
    {
     "name": "stderr",
     "output_type": "stream",
     "text": [
      "                                                               \r"
     ]
    },
    {
     "name": "stdout",
     "output_type": "stream",
     "text": [
      "MoviePy - Building file ./gifs/16_lane_weaving_highway.gif with imageio.\n"
     ]
    },
    {
     "name": "stderr",
     "output_type": "stream",
     "text": [
      "                                                               \r"
     ]
    },
    {
     "name": "stdout",
     "output_type": "stream",
     "text": [
      "MoviePy - Building file ./gifs/18_merge_in_front.gif with imageio.\n"
     ]
    },
    {
     "name": "stderr",
     "output_type": "stream",
     "text": [
      "                                                               \r"
     ]
    },
    {
     "name": "stdout",
     "output_type": "stream",
     "text": [
      "MoviePy - Building file ./gifs/19_merge_from_behind.gif with imageio.\n"
     ]
    },
    {
     "name": "stderr",
     "output_type": "stream",
     "text": [
      "                                                               \r"
     ]
    },
    {
     "name": "stdout",
     "output_type": "stream",
     "text": [
      "MoviePy - Building file ./gifs/20_gradual_acceleration_post_merging.gif with imageio.\n"
     ]
    },
    {
     "name": "stderr",
     "output_type": "stream",
     "text": [
      "                                                               \r"
     ]
    },
    {
     "name": "stdout",
     "output_type": "stream",
     "text": [
      "MoviePy - Building file ./gifs/22_drive_in_lane_1_highway.gif with imageio.\n"
     ]
    },
    {
     "name": "stderr",
     "output_type": "stream",
     "text": [
      "                                                               \r"
     ]
    },
    {
     "name": "stdout",
     "output_type": "stream",
     "text": [
      "MoviePy - Building file ./gifs/23_stop_after_20s_highway.gif with imageio.\n"
     ]
    },
    {
     "name": "stderr",
     "output_type": "stream",
     "text": [
      "                                                               \r"
     ]
    },
    {
     "name": "stdout",
     "output_type": "stream",
     "text": [
      "MoviePy - Building file ./gifs/24_slows_down_when_approach_car.gif with imageio.\n"
     ]
    },
    {
     "name": "stderr",
     "output_type": "stream",
     "text": [
      "                                                             \r"
     ]
    },
    {
     "name": "stdout",
     "output_type": "stream",
     "text": [
      "MoviePy - Building file ./gifs/27_accelerate_after_intersection.gif with imageio.\n"
     ]
    },
    {
     "name": "stderr",
     "output_type": "stream",
     "text": [
      "                                                               \r"
     ]
    },
    {
     "name": "stdout",
     "output_type": "stream",
     "text": [
      "MoviePy - Building file ./gifs/28_decelerate_after_intersection.gif with imageio.\n"
     ]
    },
    {
     "name": "stderr",
     "output_type": "stream",
     "text": [
      "                                                               \r"
     ]
    },
    {
     "name": "stdout",
     "output_type": "stream",
     "text": [
      "MoviePy - Building file ./gifs/29_stop_after_intersection.gif with imageio.\n"
     ]
    },
    {
     "name": "stderr",
     "output_type": "stream",
     "text": [
      "                                                               \r"
     ]
    },
    {
     "name": "stdout",
     "output_type": "stream",
     "text": [
      "GIFs have been created successfully and saved in the './gifs' directory!\n"
     ]
    }
   ],
   "source": [
    "import os\n",
    "from moviepy.editor import VideoFileClip, concatenate_videoclips\n",
    "\n",
    "# Define the directory where the files are located\n",
    "directory = './'\n",
    "\n",
    "# List of video files with numbers in the front\n",
    "video_files = [\n",
    "    # \"0_decelerating_through_intersection.mp4\",\n",
    "    # \"1_consistent_speed_through_intersection.mp4\",\n",
    "    # \"2_abrupt_full_stop.mp4\",\n",
    "    # \"4_rolling_stop.mp4\",\n",
    "    # \"5_rapid_acceleration.mp4\",\n",
    "    # \"6_early_deceleration_merge.mp4\",\n",
    "    # \"7_sudden_braking_merge.mp4\",\n",
    "    # \"8_late_merger.mp4\",\n",
    "    \"9_accelerative_merger.mp4\",\n",
    "    \"11_complete_stop_on_ramp_highway.mp4\",\n",
    "    \"12_tailgating_highway_multi.mp4\",\n",
    "    \"13_accelerative_highway.mp4\",\n",
    "    \"14_parallel_lane_highway.mp4\",\n",
    "    \"15_safe_distance_highway.mp4\",\n",
    "    \"16_lane_weaving_highway.mp4\",\n",
    "    \"18_merge_in_front.mp4\",\n",
    "    \"19_merge_from_behind.mp4\",\n",
    "    \"20_gradual_acceleration_post_merging.mp4\",\n",
    "    \"22_drive_in_lane_1_highway.mp4\",\n",
    "    \"23_stop_after_20s_highway.mp4\",\n",
    "    \"24_slows_down_when_approach_car.mp4\",\n",
    "    \"27_accelerate_after_intersection.mp4\",\n",
    "    \"28_decelerate_after_intersection.mp4\",\n",
    "    \"29_stop_after_intersection.mp4\"\n",
    "]\n",
    "\n",
    "# Define the output directory for the GIFs\n",
    "output_directory = './gifs/'\n",
    "\n",
    "# Create a GIF for each video file\n",
    "for video_file in video_files:\n",
    "    # Load the video clip\n",
    "    video_path = os.path.join(directory, video_file)\n",
    "    clip = VideoFileClip(video_path)\n",
    "    \n",
    "    # Define the GIF output file path in the ./gifs directory\n",
    "    gif_output_path = os.path.join(output_directory, video_file.replace(\".mp4\", \".gif\"))\n",
    "    \n",
    "    # Export the video as a GIF\n",
    "    clip.write_gif(gif_output_path, loop=True, fps=15)\n",
    "\n",
    "print(\"GIFs have been created successfully and saved in the './gifs' directory!\")\n"
   ]
  }
 ],
 "metadata": {
  "kernelspec": {
   "display_name": "highway",
   "language": "python",
   "name": "python3"
  },
  "language_info": {
   "codemirror_mode": {
    "name": "ipython",
    "version": 3
   },
   "file_extension": ".py",
   "mimetype": "text/x-python",
   "name": "python",
   "nbconvert_exporter": "python",
   "pygments_lexer": "ipython3",
   "version": "3.8.5"
  }
 },
 "nbformat": 4,
 "nbformat_minor": 2
}
